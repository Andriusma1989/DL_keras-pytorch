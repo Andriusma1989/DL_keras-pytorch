{
  "nbformat": 4,
  "nbformat_minor": 0,
  "metadata": {
    "colab": {
      "provenance": [],
      "mount_file_id": "1XxIZtDRH4IdPomkxt99RMJnfAhdKTOYv",
      "authorship_tag": "ABX9TyPuQipAZnPiQTDhrEyAgvLC",
      "include_colab_link": true
    },
    "kernelspec": {
      "name": "python3",
      "display_name": "Python 3"
    },
    "language_info": {
      "name": "python"
    }
  },
  "cells": [
    {
      "cell_type": "markdown",
      "metadata": {
        "id": "view-in-github",
        "colab_type": "text"
      },
      "source": [
        "<a href=\"https://colab.research.google.com/github/Andriusma1989/DL_keras-pytorch/blob/main/DL_HW.ipynb\" target=\"_parent\"><img src=\"https://colab.research.google.com/assets/colab-badge.svg\" alt=\"Open In Colab\"/></a>"
      ]
    },
    {
      "cell_type": "code",
      "execution_count": 130,
      "metadata": {
        "id": "Aasa2IUhU7mM"
      },
      "outputs": [],
      "source": [
        "import pandas as pd\n",
        "from sklearn.preprocessing import StandardScaler\n",
        "from sklearn.model_selection import train_test_split\n",
        "from keras.models import Sequential\n",
        "from keras.layers import Dense\n",
        "import torch\n",
        "import torch.nn as nn\n",
        "import torch.optim as optim\n",
        "from torch.utils.data import DataLoader, TensorDataset"
      ]
    },
    {
      "cell_type": "code",
      "source": [
        "#loading and tranasforming data\n",
        "df = pd.read_csv(\"/content/drive/MyDrive/CA/DL homework/Cancer_Data.csv\")\n",
        "df = df.drop(columns=['Unnamed: 32', 'id'])\n",
        "\n",
        "#  encode the diagnosis column as a binary variable\n",
        "df['diagnosis'] = df['diagnosis'].map({'M': 1, 'B': 0})\n",
        "\n",
        "# split the dataset into training and testing sets\n",
        "X_train, X_test, y_train, y_test = train_test_split(df.iloc[:, 1:], df.iloc[:, 0], test_size=0.2, random_state=42)\n",
        "\n",
        "# Standardize the numerical features\n",
        "scaler = StandardScaler()\n",
        "X_train = scaler.fit_transform(X_train)\n",
        "X_test = scaler.transform(X_test)\n"
      ],
      "metadata": {
        "id": "Uo1MS7r1xW8p"
      },
      "execution_count": 131,
      "outputs": []
    },
    {
      "cell_type": "markdown",
      "source": [
        "# Pytorch model"
      ],
      "metadata": {
        "id": "TVU0fEZ_ymj1"
      }
    },
    {
      "cell_type": "code",
      "source": [
        "# Converting the data to PyTorch tensors\n",
        "X_train, y_train = torch.tensor(X_train).float(), torch.tensor(y_train.values).float()\n",
        "X_test, y_test = torch.tensor(X_test).float(), torch.tensor(y_test.values).float()\n",
        "\n",
        "# Creating PyTorch datasets and data loaders\n",
        "train_dataset = TensorDataset(X_train, y_train)\n",
        "test_dataset = TensorDataset(X_test, y_test)\n",
        "\n",
        "train_loader = DataLoader(train_dataset, batch_size=32, shuffle=True)\n",
        "test_loader = DataLoader(test_dataset, batch_size=32, shuffle=False)\n",
        "\n",
        "# Defining the neural network model\n",
        "class CancerClassifier(nn.Module):\n",
        "    def __init__(self):\n",
        "        super(CancerClassifier, self).__init__()\n",
        "        self.fc1 = nn.Linear(30, 16)\n",
        "        self.fc2 = nn.Linear(16, 8)\n",
        "        self.fc3 = nn.Linear(8, 1)\n",
        "\n",
        "    def forward(self, x):\n",
        "        x = torch.relu(self.fc1(x))\n",
        "        x = torch.relu(self.fc2(x))\n",
        "        x = torch.sigmoid(self.fc3(x))\n",
        "        return x\n",
        "\n",
        "# Setting up the device (GPU or CPU)\n",
        "device = torch.device(\"cuda\" if torch.cuda.is_available() else \"cpu\")\n",
        "\n",
        "# Creating the model and moving it to the device\n",
        "model = CancerClassifier().to(device)\n",
        "\n",
        "# Setting up the loss function and optimizer\n",
        "criterion = nn.BCELoss()\n",
        "optimizer = optim.Adam(model.parameters(), lr=0.001)\n",
        "\n",
        "# Training the model\n",
        "num_epochs = 50\n",
        "for epoch in range(num_epochs):\n",
        "    for inputs, labels in train_loader:\n",
        "        inputs, labels = inputs.to(device), labels.to(device)\n",
        "        \n",
        "        # Zeroing the gradients\n",
        "        optimizer.zero_grad()\n",
        "        # Forward pass\n",
        "        outputs = model(inputs)\n",
        "        # Calculating the loss\n",
        "        loss = criterion(outputs.squeeze(), labels)\n",
        "        # Backward pass\n",
        "        loss.backward()\n",
        "        # Updating the weights\n",
        "        optimizer.step()\n",
        "    print(f\"Epoch [{epoch+1}/{num_epochs}], Loss: {loss.item()}\")\n",
        "\n",
        "# Evaluating the model's performance on the testing set\n",
        "correct = 0\n",
        "total = 0\n",
        "with torch.no_grad():\n",
        "    for inputs, labels in test_loader:\n",
        "        inputs, labels = inputs.to(device), labels.to(device)\n",
        "        # Getting predictions\n",
        "        outputs = model(inputs)\n",
        "        # Converting predictions to binary labels\n",
        "        predicted = (outputs.squeeze() > 0.5).float()\n",
        "         # Counting total samples and correct predictions\n",
        "        total += labels.size(0)\n",
        "        correct += (predicted == labels).sum().item()\n",
        "\n",
        "# Calculating test accuracy\n",
        "test_accuracy = correct / total\n",
        "print('Test accuracy:', test_accuracy)"
      ],
      "metadata": {
        "colab": {
          "base_uri": "https://localhost:8080/"
        },
        "id": "SHpnJ3jox7tE",
        "outputId": "d2cd7970-1821-40e8-f52d-30c801b4af62"
      },
      "execution_count": 123,
      "outputs": [
        {
          "output_type": "stream",
          "name": "stdout",
          "text": [
            "Epoch [1/50], Loss: 0.6415688395500183\n",
            "Epoch [2/50], Loss: 0.6970514059066772\n",
            "Epoch [3/50], Loss: 0.6035193800926208\n",
            "Epoch [4/50], Loss: 0.389403373003006\n",
            "Epoch [5/50], Loss: 0.31336289644241333\n",
            "Epoch [6/50], Loss: 0.28075721859931946\n",
            "Epoch [7/50], Loss: 0.31095975637435913\n",
            "Epoch [8/50], Loss: 0.10873454064130783\n",
            "Epoch [9/50], Loss: 0.16292020678520203\n",
            "Epoch [10/50], Loss: 0.14896537363529205\n",
            "Epoch [11/50], Loss: 0.03668161481618881\n",
            "Epoch [12/50], Loss: 0.06928060948848724\n",
            "Epoch [13/50], Loss: 0.054217834025621414\n",
            "Epoch [14/50], Loss: 0.10972851514816284\n",
            "Epoch [15/50], Loss: 0.136240154504776\n",
            "Epoch [16/50], Loss: 0.06411115825176239\n",
            "Epoch [17/50], Loss: 0.17177827656269073\n",
            "Epoch [18/50], Loss: 0.16658994555473328\n",
            "Epoch [19/50], Loss: 0.02679847739636898\n",
            "Epoch [20/50], Loss: 0.17363832890987396\n",
            "Epoch [21/50], Loss: 0.003820141777396202\n",
            "Epoch [22/50], Loss: 0.07359325885772705\n",
            "Epoch [23/50], Loss: 0.426961749792099\n",
            "Epoch [24/50], Loss: 0.012338193133473396\n",
            "Epoch [25/50], Loss: 0.03271332010626793\n",
            "Epoch [26/50], Loss: 0.028624627739191055\n",
            "Epoch [27/50], Loss: 0.035655803978443146\n",
            "Epoch [28/50], Loss: 0.43684086203575134\n",
            "Epoch [29/50], Loss: 0.00989639014005661\n",
            "Epoch [30/50], Loss: 0.01450278889387846\n",
            "Epoch [31/50], Loss: 0.13006643950939178\n",
            "Epoch [32/50], Loss: 0.03717784211039543\n",
            "Epoch [33/50], Loss: 0.001129255397245288\n",
            "Epoch [34/50], Loss: 0.0248857494443655\n",
            "Epoch [35/50], Loss: 0.02386522851884365\n",
            "Epoch [36/50], Loss: 0.06476034224033356\n",
            "Epoch [37/50], Loss: 0.026938961818814278\n",
            "Epoch [38/50], Loss: 0.0004557374049909413\n",
            "Epoch [39/50], Loss: 0.0057745506055653095\n",
            "Epoch [40/50], Loss: 0.0022456611040979624\n",
            "Epoch [41/50], Loss: 0.030173111706972122\n",
            "Epoch [42/50], Loss: 0.030620990321040154\n",
            "Epoch [43/50], Loss: 0.009019368328154087\n",
            "Epoch [44/50], Loss: 0.0056943693198263645\n",
            "Epoch [45/50], Loss: 0.016823623329401016\n",
            "Epoch [46/50], Loss: 0.03601537272334099\n",
            "Epoch [47/50], Loss: 0.026232287287712097\n",
            "Epoch [48/50], Loss: 0.0069282883778214455\n",
            "Epoch [49/50], Loss: 0.0039052017964422703\n",
            "Epoch [50/50], Loss: 0.001516107120551169\n",
            "Test accuracy: 0.9912280701754386\n"
          ]
        }
      ]
    },
    {
      "cell_type": "markdown",
      "source": [
        "# Keras model\n",
        "\n",
        "\n",
        "\n"
      ],
      "metadata": {
        "id": "9QLA3uPOyfXP"
      }
    },
    {
      "cell_type": "code",
      "source": [
        "# define the neural network model using Keras\n",
        "model = Sequential()\n",
        "model.add(Dense(16, input_dim=30, activation='relu'))\n",
        "model.add(Dense(8, activation='relu'))\n",
        "model.add(Dense(1, activation='sigmoid'))\n",
        "model.compile(loss='binary_crossentropy', optimizer='adam', metrics=['accuracy'])\n",
        "\n",
        "# training the model\n",
        "# model.fit(X_train, y_train, epochs=50, batch_size=32)\n",
        "model.fit(X_train, y_train, epochs=50, batch_size=32, validation_split=0.2)\n",
        "\n",
        "# evaluate the model's performance on the testing\n",
        "loss, accuracy = model.evaluate(X_test, y_test)\n",
        "print('Test loss:', loss)\n",
        "print('Test accuracy:', accuracy)\n",
        "'''\n",
        "Test loss: 0.0650860145688057\n",
        "Test accuracy: 0.9824561476707458\n",
        "'''"
      ],
      "metadata": {
        "colab": {
          "base_uri": "https://localhost:8080/",
          "height": 1000
        },
        "id": "sPFIPKwgYLGW",
        "outputId": "a548ef8d-2c1d-415c-ae80-e53e4bad1a97"
      },
      "execution_count": 132,
      "outputs": [
        {
          "output_type": "stream",
          "name": "stdout",
          "text": [
            "Epoch 1/50\n",
            "12/12 [==============================] - 1s 19ms/step - loss: 0.6801 - accuracy: 0.5659 - val_loss: 0.6397 - val_accuracy: 0.7363\n",
            "Epoch 2/50\n",
            "12/12 [==============================] - 0s 6ms/step - loss: 0.5803 - accuracy: 0.8022 - val_loss: 0.5425 - val_accuracy: 0.8022\n",
            "Epoch 3/50\n",
            "12/12 [==============================] - 0s 5ms/step - loss: 0.4879 - accuracy: 0.8681 - val_loss: 0.4530 - val_accuracy: 0.8791\n",
            "Epoch 4/50\n",
            "12/12 [==============================] - 0s 7ms/step - loss: 0.4086 - accuracy: 0.9011 - val_loss: 0.3771 - val_accuracy: 0.8901\n",
            "Epoch 5/50\n",
            "12/12 [==============================] - 0s 7ms/step - loss: 0.3420 - accuracy: 0.9176 - val_loss: 0.3241 - val_accuracy: 0.9011\n",
            "Epoch 6/50\n",
            "12/12 [==============================] - 0s 6ms/step - loss: 0.2915 - accuracy: 0.9258 - val_loss: 0.2862 - val_accuracy: 0.9011\n",
            "Epoch 7/50\n",
            "12/12 [==============================] - 0s 6ms/step - loss: 0.2515 - accuracy: 0.9313 - val_loss: 0.2575 - val_accuracy: 0.9011\n",
            "Epoch 8/50\n",
            "12/12 [==============================] - 0s 6ms/step - loss: 0.2186 - accuracy: 0.9396 - val_loss: 0.2336 - val_accuracy: 0.9121\n",
            "Epoch 9/50\n",
            "12/12 [==============================] - 0s 6ms/step - loss: 0.1915 - accuracy: 0.9533 - val_loss: 0.2139 - val_accuracy: 0.9231\n",
            "Epoch 10/50\n",
            "12/12 [==============================] - 0s 5ms/step - loss: 0.1693 - accuracy: 0.9533 - val_loss: 0.1964 - val_accuracy: 0.9341\n",
            "Epoch 11/50\n",
            "12/12 [==============================] - 0s 5ms/step - loss: 0.1515 - accuracy: 0.9643 - val_loss: 0.1824 - val_accuracy: 0.9451\n",
            "Epoch 12/50\n",
            "12/12 [==============================] - 0s 7ms/step - loss: 0.1370 - accuracy: 0.9643 - val_loss: 0.1703 - val_accuracy: 0.9560\n",
            "Epoch 13/50\n",
            "12/12 [==============================] - 0s 8ms/step - loss: 0.1241 - accuracy: 0.9643 - val_loss: 0.1618 - val_accuracy: 0.9560\n",
            "Epoch 14/50\n",
            "12/12 [==============================] - 0s 5ms/step - loss: 0.1142 - accuracy: 0.9698 - val_loss: 0.1540 - val_accuracy: 0.9560\n",
            "Epoch 15/50\n",
            "12/12 [==============================] - 0s 6ms/step - loss: 0.1057 - accuracy: 0.9725 - val_loss: 0.1484 - val_accuracy: 0.9560\n",
            "Epoch 16/50\n",
            "12/12 [==============================] - 0s 5ms/step - loss: 0.0988 - accuracy: 0.9753 - val_loss: 0.1438 - val_accuracy: 0.9560\n",
            "Epoch 17/50\n",
            "12/12 [==============================] - 0s 8ms/step - loss: 0.0926 - accuracy: 0.9753 - val_loss: 0.1398 - val_accuracy: 0.9560\n",
            "Epoch 18/50\n",
            "12/12 [==============================] - 0s 8ms/step - loss: 0.0874 - accuracy: 0.9780 - val_loss: 0.1358 - val_accuracy: 0.9560\n",
            "Epoch 19/50\n",
            "12/12 [==============================] - 0s 5ms/step - loss: 0.0826 - accuracy: 0.9780 - val_loss: 0.1333 - val_accuracy: 0.9560\n",
            "Epoch 20/50\n",
            "12/12 [==============================] - 0s 6ms/step - loss: 0.0788 - accuracy: 0.9808 - val_loss: 0.1309 - val_accuracy: 0.9560\n",
            "Epoch 21/50\n",
            "12/12 [==============================] - 0s 6ms/step - loss: 0.0750 - accuracy: 0.9808 - val_loss: 0.1290 - val_accuracy: 0.9560\n",
            "Epoch 22/50\n",
            "12/12 [==============================] - 0s 8ms/step - loss: 0.0717 - accuracy: 0.9835 - val_loss: 0.1275 - val_accuracy: 0.9560\n",
            "Epoch 23/50\n",
            "12/12 [==============================] - 0s 6ms/step - loss: 0.0688 - accuracy: 0.9835 - val_loss: 0.1259 - val_accuracy: 0.9560\n",
            "Epoch 24/50\n",
            "12/12 [==============================] - 0s 7ms/step - loss: 0.0661 - accuracy: 0.9835 - val_loss: 0.1240 - val_accuracy: 0.9560\n",
            "Epoch 25/50\n",
            "12/12 [==============================] - 0s 6ms/step - loss: 0.0637 - accuracy: 0.9835 - val_loss: 0.1225 - val_accuracy: 0.9560\n",
            "Epoch 26/50\n",
            "12/12 [==============================] - 0s 8ms/step - loss: 0.0612 - accuracy: 0.9863 - val_loss: 0.1213 - val_accuracy: 0.9560\n",
            "Epoch 27/50\n",
            "12/12 [==============================] - 0s 6ms/step - loss: 0.0593 - accuracy: 0.9863 - val_loss: 0.1206 - val_accuracy: 0.9451\n",
            "Epoch 28/50\n",
            "12/12 [==============================] - 0s 5ms/step - loss: 0.0571 - accuracy: 0.9863 - val_loss: 0.1195 - val_accuracy: 0.9451\n",
            "Epoch 29/50\n",
            "12/12 [==============================] - 0s 7ms/step - loss: 0.0555 - accuracy: 0.9863 - val_loss: 0.1186 - val_accuracy: 0.9560\n",
            "Epoch 30/50\n",
            "12/12 [==============================] - 0s 7ms/step - loss: 0.0539 - accuracy: 0.9863 - val_loss: 0.1178 - val_accuracy: 0.9560\n",
            "Epoch 31/50\n",
            "12/12 [==============================] - 0s 6ms/step - loss: 0.0524 - accuracy: 0.9890 - val_loss: 0.1174 - val_accuracy: 0.9560\n",
            "Epoch 32/50\n",
            "12/12 [==============================] - 0s 5ms/step - loss: 0.0509 - accuracy: 0.9918 - val_loss: 0.1167 - val_accuracy: 0.9451\n",
            "Epoch 33/50\n",
            "12/12 [==============================] - 0s 5ms/step - loss: 0.0496 - accuracy: 0.9918 - val_loss: 0.1161 - val_accuracy: 0.9451\n",
            "Epoch 34/50\n",
            "12/12 [==============================] - 0s 7ms/step - loss: 0.0483 - accuracy: 0.9918 - val_loss: 0.1159 - val_accuracy: 0.9451\n",
            "Epoch 35/50\n",
            "12/12 [==============================] - 0s 6ms/step - loss: 0.0471 - accuracy: 0.9918 - val_loss: 0.1154 - val_accuracy: 0.9451\n",
            "Epoch 36/50\n",
            "12/12 [==============================] - 0s 7ms/step - loss: 0.0461 - accuracy: 0.9918 - val_loss: 0.1151 - val_accuracy: 0.9451\n",
            "Epoch 37/50\n",
            "12/12 [==============================] - 0s 7ms/step - loss: 0.0449 - accuracy: 0.9918 - val_loss: 0.1147 - val_accuracy: 0.9451\n",
            "Epoch 38/50\n",
            "12/12 [==============================] - 0s 6ms/step - loss: 0.0438 - accuracy: 0.9918 - val_loss: 0.1147 - val_accuracy: 0.9451\n",
            "Epoch 39/50\n",
            "12/12 [==============================] - 0s 6ms/step - loss: 0.0429 - accuracy: 0.9918 - val_loss: 0.1144 - val_accuracy: 0.9451\n",
            "Epoch 40/50\n",
            "12/12 [==============================] - 0s 6ms/step - loss: 0.0420 - accuracy: 0.9918 - val_loss: 0.1136 - val_accuracy: 0.9451\n",
            "Epoch 41/50\n",
            "12/12 [==============================] - 0s 7ms/step - loss: 0.0411 - accuracy: 0.9918 - val_loss: 0.1135 - val_accuracy: 0.9451\n",
            "Epoch 42/50\n",
            "12/12 [==============================] - 0s 6ms/step - loss: 0.0404 - accuracy: 0.9918 - val_loss: 0.1134 - val_accuracy: 0.9451\n",
            "Epoch 43/50\n",
            "12/12 [==============================] - 0s 7ms/step - loss: 0.0394 - accuracy: 0.9945 - val_loss: 0.1125 - val_accuracy: 0.9451\n",
            "Epoch 44/50\n",
            "12/12 [==============================] - 0s 5ms/step - loss: 0.0387 - accuracy: 0.9945 - val_loss: 0.1126 - val_accuracy: 0.9451\n",
            "Epoch 45/50\n",
            "12/12 [==============================] - 0s 6ms/step - loss: 0.0379 - accuracy: 0.9945 - val_loss: 0.1123 - val_accuracy: 0.9451\n",
            "Epoch 46/50\n",
            "12/12 [==============================] - 0s 8ms/step - loss: 0.0373 - accuracy: 0.9945 - val_loss: 0.1125 - val_accuracy: 0.9451\n",
            "Epoch 47/50\n",
            "12/12 [==============================] - 0s 6ms/step - loss: 0.0365 - accuracy: 0.9945 - val_loss: 0.1124 - val_accuracy: 0.9451\n",
            "Epoch 48/50\n",
            "12/12 [==============================] - 0s 6ms/step - loss: 0.0358 - accuracy: 0.9945 - val_loss: 0.1121 - val_accuracy: 0.9451\n",
            "Epoch 49/50\n",
            "12/12 [==============================] - 0s 7ms/step - loss: 0.0350 - accuracy: 0.9945 - val_loss: 0.1120 - val_accuracy: 0.9451\n",
            "Epoch 50/50\n",
            "12/12 [==============================] - 0s 8ms/step - loss: 0.0345 - accuracy: 0.9945 - val_loss: 0.1122 - val_accuracy: 0.9451\n",
            "4/4 [==============================] - 0s 5ms/step - loss: 0.0631 - accuracy: 0.9912\n",
            "Test loss: 0.06307175010442734\n",
            "Test accuracy: 0.9912280440330505\n"
          ]
        },
        {
          "output_type": "execute_result",
          "data": {
            "text/plain": [
              "'\\nTest loss: 0.0650860145688057\\nTest accuracy: 0.9824561476707458\\n'"
            ],
            "application/vnd.google.colaboratory.intrinsic+json": {
              "type": "string"
            }
          },
          "metadata": {},
          "execution_count": 132
        }
      ]
    }
  ]
}